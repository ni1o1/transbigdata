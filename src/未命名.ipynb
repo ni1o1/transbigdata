{
 "cells": [
  {
   "cell_type": "code",
   "execution_count": 1,
   "id": "0a2300f5",
   "metadata": {
    "ExecuteTime": {
     "end_time": "2022-02-03T09:56:35.864489Z",
     "start_time": "2022-02-03T09:56:35.373712Z"
    }
   },
   "outputs": [
    {
     "data": {
      "text/plain": [
       "'0.3.6'"
      ]
     },
     "execution_count": 1,
     "metadata": {},
     "output_type": "execute_result"
    }
   ],
   "source": [
    "import transbigdata as tbd\n",
    "tbd.__version__"
   ]
  },
  {
   "cell_type": "code",
   "execution_count": null,
   "id": "f86f6cc5",
   "metadata": {},
   "outputs": [],
   "source": []
  }
 ],
 "metadata": {
  "kernelspec": {
   "display_name": "Python 3 (ipykernel)",
   "language": "python",
   "name": "python3"
  },
  "language_info": {
   "codemirror_mode": {
    "name": "ipython",
    "version": 3
   },
   "file_extension": ".py",
   "mimetype": "text/x-python",
   "name": "python",
   "nbconvert_exporter": "python",
   "pygments_lexer": "ipython3",
   "version": "3.8.8"
  },
  "toc": {
   "base_numbering": 1,
   "nav_menu": {},
   "number_sections": true,
   "sideBar": true,
   "skip_h1_title": false,
   "title_cell": "Table of Contents",
   "title_sidebar": "Contents",
   "toc_cell": false,
   "toc_position": {},
   "toc_section_display": true,
   "toc_window_display": false
  }
 },
 "nbformat": 4,
 "nbformat_minor": 5
}
